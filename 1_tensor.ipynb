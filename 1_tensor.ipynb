{
  "nbformat": 4,
  "nbformat_minor": 0,
  "metadata": {
    "colab": {
      "provenance": [],
      "collapsed_sections": [],
      "authorship_tag": "ABX9TyNO9FzUSe+3VnBL0KxTkFWS",
      "include_colab_link": true
    },
    "kernelspec": {
      "name": "python3",
      "display_name": "Python 3"
    },
    "language_info": {
      "name": "python"
    },
    "accelerator": "GPU",
    "gpuClass": "standard"
  },
  "cells": [
    {
      "cell_type": "markdown",
      "metadata": {
        "id": "view-in-github",
        "colab_type": "text"
      },
      "source": [
        "<a href=\"https://colab.research.google.com/github/dntmdxor99/pytorch/blob/main/1_tensor.ipynb\" target=\"_parent\"><img src=\"https://colab.research.google.com/assets/colab-badge.svg\" alt=\"Open In Colab\"/></a>"
      ]
    },
    {
      "cell_type": "code",
      "execution_count": 1,
      "metadata": {
        "id": "TKARL6Q52T_d"
      },
      "outputs": [],
      "source": [
        "import torch\n",
        "import numpy as np"
      ]
    },
    {
      "cell_type": "code",
      "source": [
        "data = [[1, 2], [3, 4]]\n",
        "x_data = torch.tensor(data)\n",
        "x_data"
      ],
      "metadata": {
        "colab": {
          "base_uri": "https://localhost:8080/"
        },
        "id": "K0Sl0cGS3vf9",
        "outputId": "279fdb6a-28fc-4bd5-cfb8-a487f671fc79"
      },
      "execution_count": 2,
      "outputs": [
        {
          "output_type": "execute_result",
          "data": {
            "text/plain": [
              "tensor([[1, 2],\n",
              "        [3, 4]])"
            ]
          },
          "metadata": {},
          "execution_count": 2
        }
      ]
    },
    {
      "cell_type": "code",
      "source": [
        "np_array = np.array(data)\n",
        "x_np = torch.from_numpy(np_array)\n",
        "x_np"
      ],
      "metadata": {
        "colab": {
          "base_uri": "https://localhost:8080/"
        },
        "id": "1osamXwO3zCM",
        "outputId": "1c6e03c0-a410-4926-fd92-eccc0d52245b"
      },
      "execution_count": 3,
      "outputs": [
        {
          "output_type": "execute_result",
          "data": {
            "text/plain": [
              "tensor([[1, 2],\n",
              "        [3, 4]])"
            ]
          },
          "metadata": {},
          "execution_count": 3
        }
      ]
    },
    {
      "cell_type": "code",
      "source": [
        "x_ones = torch.ones_like(x_data)\n",
        "x_ones"
      ],
      "metadata": {
        "colab": {
          "base_uri": "https://localhost:8080/"
        },
        "id": "nFjHLREQ394u",
        "outputId": "1340837f-64c6-4c71-f399-c5d7af3bfbca"
      },
      "execution_count": 4,
      "outputs": [
        {
          "output_type": "execute_result",
          "data": {
            "text/plain": [
              "tensor([[1, 1],\n",
              "        [1, 1]])"
            ]
          },
          "metadata": {},
          "execution_count": 4
        }
      ]
    },
    {
      "cell_type": "code",
      "source": [
        "x_rand = torch.rand_like(x_data, dtype = torch.float)  # 기본적으로 주어진 인자의 속성(모양, 자료형)을 공유하기 때뭉네 정의해줘야 한다.\n",
        "x_rand"
      ],
      "metadata": {
        "colab": {
          "base_uri": "https://localhost:8080/"
        },
        "id": "U3nnpNmc4GxS",
        "outputId": "47827cfc-aab3-455c-e0b4-48d0847ca4ed"
      },
      "execution_count": 7,
      "outputs": [
        {
          "output_type": "execute_result",
          "data": {
            "text/plain": [
              "tensor([[0.7441, 0.9549],\n",
              "        [0.8671, 0.6639]])"
            ]
          },
          "metadata": {},
          "execution_count": 7
        }
      ]
    },
    {
      "cell_type": "code",
      "source": [
        "shape = (2, 3, )\n",
        "rand_tensor = torch.rand(shape)\n",
        "ones_tensor = torch.ones(shape)\n",
        "zeros_tensor = torch.zeros(shape)"
      ],
      "metadata": {
        "id": "zTix4-F44LSt"
      },
      "execution_count": 16,
      "outputs": []
    },
    {
      "cell_type": "code",
      "source": [
        "rand_tensor"
      ],
      "metadata": {
        "colab": {
          "base_uri": "https://localhost:8080/"
        },
        "id": "2cDqdbLn4fsr",
        "outputId": "11dac3d6-e4ad-4653-a5c5-0ca7907525b6"
      },
      "execution_count": 17,
      "outputs": [
        {
          "output_type": "execute_result",
          "data": {
            "text/plain": [
              "tensor([[0.5272, 0.6315, 0.6977],\n",
              "        [0.1298, 0.2627, 0.7076]])"
            ]
          },
          "metadata": {},
          "execution_count": 17
        }
      ]
    },
    {
      "cell_type": "code",
      "source": [
        "ones_tensor"
      ],
      "metadata": {
        "colab": {
          "base_uri": "https://localhost:8080/"
        },
        "id": "bwrbWpxl4gQk",
        "outputId": "fe65ec59-548c-4924-8dc4-84f6257a191e"
      },
      "execution_count": 18,
      "outputs": [
        {
          "output_type": "execute_result",
          "data": {
            "text/plain": [
              "tensor([[1., 1., 1.],\n",
              "        [1., 1., 1.]])"
            ]
          },
          "metadata": {},
          "execution_count": 18
        }
      ]
    },
    {
      "cell_type": "code",
      "source": [
        "zeros_tensor"
      ],
      "metadata": {
        "colab": {
          "base_uri": "https://localhost:8080/"
        },
        "id": "iDT-xxCS4hEK",
        "outputId": "b3ec22b5-c034-4760-8ab6-235e17b03dc4"
      },
      "execution_count": 19,
      "outputs": [
        {
          "output_type": "execute_result",
          "data": {
            "text/plain": [
              "tensor([[0., 0., 0.],\n",
              "        [0., 0., 0.]])"
            ]
          },
          "metadata": {},
          "execution_count": 19
        }
      ]
    },
    {
      "cell_type": "code",
      "source": [
        "tensor = torch.rand(3,4,)\n",
        "tensor"
      ],
      "metadata": {
        "colab": {
          "base_uri": "https://localhost:8080/"
        },
        "id": "xFv01htx4hr2",
        "outputId": "0c46c326-bb51-4eec-a2f3-1f1f24324910"
      },
      "execution_count": 21,
      "outputs": [
        {
          "output_type": "execute_result",
          "data": {
            "text/plain": [
              "tensor([[0.3501, 0.3139, 0.5653, 0.3036],\n",
              "        [0.7919, 0.4479, 0.8858, 0.8527],\n",
              "        [0.9666, 0.2646, 0.1120, 0.0919]])"
            ]
          },
          "metadata": {},
          "execution_count": 21
        }
      ]
    },
    {
      "cell_type": "code",
      "source": [
        "tensor.device"
      ],
      "metadata": {
        "colab": {
          "base_uri": "https://localhost:8080/"
        },
        "id": "JDLSp-S741rg",
        "outputId": "e6c9592a-405e-495a-85bb-7adf3a2b49c9"
      },
      "execution_count": 22,
      "outputs": [
        {
          "output_type": "execute_result",
          "data": {
            "text/plain": [
              "device(type='cpu')"
            ]
          },
          "metadata": {},
          "execution_count": 22
        }
      ]
    },
    {
      "cell_type": "code",
      "source": [
        "if torch.cuda.is_available():\n",
        "    tensor = tensor.to(\"cuda\")"
      ],
      "metadata": {
        "id": "eyrV0NkJ469e"
      },
      "execution_count": 23,
      "outputs": []
    },
    {
      "cell_type": "code",
      "source": [
        "tensor.device"
      ],
      "metadata": {
        "colab": {
          "base_uri": "https://localhost:8080/"
        },
        "id": "LJ2d9BYY5Dc0",
        "outputId": "e9cfde54-7aa8-43cd-d047-3349eca340bf"
      },
      "execution_count": 24,
      "outputs": [
        {
          "output_type": "execute_result",
          "data": {
            "text/plain": [
              "device(type='cuda', index=0)"
            ]
          },
          "metadata": {},
          "execution_count": 24
        }
      ]
    },
    {
      "cell_type": "code",
      "source": [
        "tensor = torch.rand(4, 4)\n",
        "print(tensor)\n",
        "print(tensor[..., -1])\n",
        "print(tensor[:, -1])"
      ],
      "metadata": {
        "colab": {
          "base_uri": "https://localhost:8080/"
        },
        "id": "2r2IwTWq5FMl",
        "outputId": "420c7085-8020-477f-d4e8-7f3c1ff614a2"
      },
      "execution_count": 27,
      "outputs": [
        {
          "output_type": "stream",
          "name": "stdout",
          "text": [
            "tensor([[0.1103, 0.0831, 0.1362, 0.8736],\n",
            "        [0.7939, 0.6119, 0.0823, 0.3487],\n",
            "        [0.8957, 0.3732, 0.3057, 0.6541],\n",
            "        [0.9062, 0.5380, 0.7129, 0.5578]])\n",
            "tensor([0.8736, 0.3487, 0.6541, 0.5578])\n",
            "tensor([0.8736, 0.3487, 0.6541, 0.5578])\n"
          ]
        }
      ]
    },
    {
      "cell_type": "code",
      "source": [
        "tensor[:, 1] = 0\n",
        "tensor"
      ],
      "metadata": {
        "colab": {
          "base_uri": "https://localhost:8080/"
        },
        "id": "Iob-5aG55OMB",
        "outputId": "e992e976-8cf6-440f-c4ba-1342d3fcd3ba"
      },
      "execution_count": 28,
      "outputs": [
        {
          "output_type": "execute_result",
          "data": {
            "text/plain": [
              "tensor([[0.1103, 0.0000, 0.1362, 0.8736],\n",
              "        [0.7939, 0.0000, 0.0823, 0.3487],\n",
              "        [0.8957, 0.0000, 0.3057, 0.6541],\n",
              "        [0.9062, 0.0000, 0.7129, 0.5578]])"
            ]
          },
          "metadata": {},
          "execution_count": 28
        }
      ]
    },
    {
      "cell_type": "code",
      "source": [
        "t1 = torch.cat([tensor, tensor, tensor], dim = 0)\n",
        "t1"
      ],
      "metadata": {
        "colab": {
          "base_uri": "https://localhost:8080/"
        },
        "id": "fONYc35P5YPx",
        "outputId": "58fba3b4-e2c1-4d51-f080-38036832e2f5"
      },
      "execution_count": 33,
      "outputs": [
        {
          "output_type": "execute_result",
          "data": {
            "text/plain": [
              "tensor([[0.1103, 0.0000, 0.1362, 0.8736],\n",
              "        [0.7939, 0.0000, 0.0823, 0.3487],\n",
              "        [0.8957, 0.0000, 0.3057, 0.6541],\n",
              "        [0.9062, 0.0000, 0.7129, 0.5578],\n",
              "        [0.1103, 0.0000, 0.1362, 0.8736],\n",
              "        [0.7939, 0.0000, 0.0823, 0.3487],\n",
              "        [0.8957, 0.0000, 0.3057, 0.6541],\n",
              "        [0.9062, 0.0000, 0.7129, 0.5578],\n",
              "        [0.1103, 0.0000, 0.1362, 0.8736],\n",
              "        [0.7939, 0.0000, 0.0823, 0.3487],\n",
              "        [0.8957, 0.0000, 0.3057, 0.6541],\n",
              "        [0.9062, 0.0000, 0.7129, 0.5578]])"
            ]
          },
          "metadata": {},
          "execution_count": 33
        }
      ]
    },
    {
      "cell_type": "code",
      "source": [
        "t1 = torch.cat([tensor, tensor, tensor], dim = 1)\n",
        "t1"
      ],
      "metadata": {
        "colab": {
          "base_uri": "https://localhost:8080/"
        },
        "id": "Fr_4vkpJ5c-_",
        "outputId": "5b5b829d-3683-49c6-cd8b-0412e79fd3a1"
      },
      "execution_count": 34,
      "outputs": [
        {
          "output_type": "execute_result",
          "data": {
            "text/plain": [
              "tensor([[0.1103, 0.0000, 0.1362, 0.8736, 0.1103, 0.0000, 0.1362, 0.8736, 0.1103,\n",
              "         0.0000, 0.1362, 0.8736],\n",
              "        [0.7939, 0.0000, 0.0823, 0.3487, 0.7939, 0.0000, 0.0823, 0.3487, 0.7939,\n",
              "         0.0000, 0.0823, 0.3487],\n",
              "        [0.8957, 0.0000, 0.3057, 0.6541, 0.8957, 0.0000, 0.3057, 0.6541, 0.8957,\n",
              "         0.0000, 0.3057, 0.6541],\n",
              "        [0.9062, 0.0000, 0.7129, 0.5578, 0.9062, 0.0000, 0.7129, 0.5578, 0.9062,\n",
              "         0.0000, 0.7129, 0.5578]])"
            ]
          },
          "metadata": {},
          "execution_count": 34
        }
      ]
    },
    {
      "cell_type": "code",
      "source": [
        "y1 = tensor @ tensor.T\n",
        "y2 = tensor.matmul(tensor.T)\n",
        "y3 = torch.rand_like(y1)\n",
        "print(y1)\n",
        "print(y2)\n",
        "print(torch.matmul(tensor, tensor.T, out = y3))"
      ],
      "metadata": {
        "colab": {
          "base_uri": "https://localhost:8080/"
        },
        "id": "qKiq9m9o5pif",
        "outputId": "ab007542-3b26-49ad-8e0f-9388b4cb083b"
      },
      "execution_count": 39,
      "outputs": [
        {
          "output_type": "stream",
          "name": "stdout",
          "text": [
            "tensor([[0.7940, 0.4034, 0.7119, 0.6844],\n",
            "        [0.4034, 0.7586, 0.9643, 0.9726],\n",
            "        [0.7119, 0.9643, 1.3235, 1.3945],\n",
            "        [0.6844, 0.9726, 1.3945, 1.6407]])\n",
            "tensor([[0.7940, 0.4034, 0.7119, 0.6844],\n",
            "        [0.4034, 0.7586, 0.9643, 0.9726],\n",
            "        [0.7119, 0.9643, 1.3235, 1.3945],\n",
            "        [0.6844, 0.9726, 1.3945, 1.6407]])\n",
            "tensor([[0.7940, 0.4034, 0.7119, 0.6844],\n",
            "        [0.4034, 0.7586, 0.9643, 0.9726],\n",
            "        [0.7119, 0.9643, 1.3235, 1.3945],\n",
            "        [0.6844, 0.9726, 1.3945, 1.6407]])\n"
          ]
        }
      ]
    },
    {
      "cell_type": "code",
      "source": [
        "z1 = tensor * tensor\n",
        "z2 = tensor.mul(tensor)\n",
        "print(z1)\n",
        "print(z2)"
      ],
      "metadata": {
        "colab": {
          "base_uri": "https://localhost:8080/"
        },
        "id": "3bpwG1Qv6DMJ",
        "outputId": "97b9ecd3-d274-4d29-cfa6-0244a21c4d91"
      },
      "execution_count": 40,
      "outputs": [
        {
          "output_type": "stream",
          "name": "stdout",
          "text": [
            "tensor([[0.0122, 0.0000, 0.0185, 0.7633],\n",
            "        [0.6303, 0.0000, 0.0068, 0.1216],\n",
            "        [0.8023, 0.0000, 0.0934, 0.4278],\n",
            "        [0.8212, 0.0000, 0.5083, 0.3112]])\n",
            "tensor([[0.0122, 0.0000, 0.0185, 0.7633],\n",
            "        [0.6303, 0.0000, 0.0068, 0.1216],\n",
            "        [0.8023, 0.0000, 0.0934, 0.4278],\n",
            "        [0.8212, 0.0000, 0.5083, 0.3112]])\n"
          ]
        }
      ]
    },
    {
      "cell_type": "code",
      "source": [
        "agg = tensor.sum()\n",
        "agg_item = agg.item()\n",
        "print(agg)\n",
        "agg_item"
      ],
      "metadata": {
        "colab": {
          "base_uri": "https://localhost:8080/"
        },
        "id": "kOtWrEEu7J5l",
        "outputId": "b532cc46-cc86-42e4-f7cb-c74804347662"
      },
      "execution_count": 43,
      "outputs": [
        {
          "output_type": "stream",
          "name": "stdout",
          "text": [
            "tensor(6.3774)\n"
          ]
        },
        {
          "output_type": "execute_result",
          "data": {
            "text/plain": [
              "6.377408504486084"
            ]
          },
          "metadata": {},
          "execution_count": 43
        }
      ]
    },
    {
      "cell_type": "code",
      "source": [
        "tensor.add(5)"
      ],
      "metadata": {
        "colab": {
          "base_uri": "https://localhost:8080/"
        },
        "id": "TL4IBQkK7QYq",
        "outputId": "1b61458c-7a8f-42a5-b6d3-694aec6b08c4"
      },
      "execution_count": 44,
      "outputs": [
        {
          "output_type": "execute_result",
          "data": {
            "text/plain": [
              "tensor([[5.1103, 5.0000, 5.1362, 5.8736],\n",
              "        [5.7939, 5.0000, 5.0823, 5.3487],\n",
              "        [5.8957, 5.0000, 5.3057, 5.6541],\n",
              "        [5.9062, 5.0000, 5.7129, 5.5578]])"
            ]
          },
          "metadata": {},
          "execution_count": 44
        }
      ]
    },
    {
      "cell_type": "code",
      "source": [
        "tensor"
      ],
      "metadata": {
        "colab": {
          "base_uri": "https://localhost:8080/"
        },
        "id": "QrhZVZqS7huV",
        "outputId": "4b34704c-e9b6-4610-c070-3f8ccd1eff3a"
      },
      "execution_count": 45,
      "outputs": [
        {
          "output_type": "execute_result",
          "data": {
            "text/plain": [
              "tensor([[0.1103, 0.0000, 0.1362, 0.8736],\n",
              "        [0.7939, 0.0000, 0.0823, 0.3487],\n",
              "        [0.8957, 0.0000, 0.3057, 0.6541],\n",
              "        [0.9062, 0.0000, 0.7129, 0.5578]])"
            ]
          },
          "metadata": {},
          "execution_count": 45
        }
      ]
    },
    {
      "cell_type": "code",
      "source": [
        "tensor.add_(5)\n",
        "tensor"
      ],
      "metadata": {
        "colab": {
          "base_uri": "https://localhost:8080/"
        },
        "id": "yRj8VYoX7iK-",
        "outputId": "75e71245-bcb6-4d10-f1e2-761163d5e68c"
      },
      "execution_count": 46,
      "outputs": [
        {
          "output_type": "execute_result",
          "data": {
            "text/plain": [
              "tensor([[5.1103, 5.0000, 5.1362, 5.8736],\n",
              "        [5.7939, 5.0000, 5.0823, 5.3487],\n",
              "        [5.8957, 5.0000, 5.3057, 5.6541],\n",
              "        [5.9062, 5.0000, 5.7129, 5.5578]])"
            ]
          },
          "metadata": {},
          "execution_count": 46
        }
      ]
    },
    {
      "cell_type": "code",
      "source": [
        "t = torch.ones(5)\n",
        "print(t)\n",
        "n = t.numpy()\n",
        "print(n)"
      ],
      "metadata": {
        "colab": {
          "base_uri": "https://localhost:8080/"
        },
        "id": "xPdRo7uQ7kch",
        "outputId": "429f4070-d4d1-4f76-bb9d-7c0002b733a5"
      },
      "execution_count": 47,
      "outputs": [
        {
          "output_type": "stream",
          "name": "stdout",
          "text": [
            "tensor([1., 1., 1., 1., 1.])\n",
            "[1. 1. 1. 1. 1.]\n"
          ]
        }
      ]
    },
    {
      "cell_type": "code",
      "source": [
        "t.add_(1)\n",
        "print(t)\n",
        "print(n)"
      ],
      "metadata": {
        "colab": {
          "base_uri": "https://localhost:8080/"
        },
        "id": "u0J5x-eR7sEl",
        "outputId": "b06cdc21-4cd7-4e63-a7a9-5c34bffb12e7"
      },
      "execution_count": 48,
      "outputs": [
        {
          "output_type": "stream",
          "name": "stdout",
          "text": [
            "tensor([2., 2., 2., 2., 2.])\n",
            "[2. 2. 2. 2. 2.]\n"
          ]
        }
      ]
    },
    {
      "cell_type": "code",
      "source": [
        "n = np.ones(5)\n",
        "t = torch.from_numpy(n)\n",
        "print(n)\n",
        "print(t)"
      ],
      "metadata": {
        "colab": {
          "base_uri": "https://localhost:8080/"
        },
        "id": "3VxNy8QD7vo8",
        "outputId": "376626bc-fac5-4eb3-c158-4be4640e0730"
      },
      "execution_count": 50,
      "outputs": [
        {
          "output_type": "stream",
          "name": "stdout",
          "text": [
            "[1. 1. 1. 1. 1.]\n",
            "tensor([1., 1., 1., 1., 1.], dtype=torch.float64)\n"
          ]
        }
      ]
    },
    {
      "cell_type": "code",
      "source": [
        "np.add(n, 1, out = n)\n",
        "print(t)\n",
        "print(n)"
      ],
      "metadata": {
        "colab": {
          "base_uri": "https://localhost:8080/"
        },
        "id": "28NBnVJ47ztK",
        "outputId": "db35368c-7778-4fc3-c89f-9b3dc160bc95"
      },
      "execution_count": 52,
      "outputs": [
        {
          "output_type": "stream",
          "name": "stdout",
          "text": [
            "tensor([2., 2., 2., 2., 2.], dtype=torch.float64)\n",
            "[2. 2. 2. 2. 2.]\n"
          ]
        }
      ]
    },
    {
      "cell_type": "code",
      "source": [],
      "metadata": {
        "id": "yxK8ohtB73Ba"
      },
      "execution_count": null,
      "outputs": []
    }
  ]
}